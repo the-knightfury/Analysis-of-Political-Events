{
 "cells": [
  {
   "cell_type": "code",
   "execution_count": 131,
   "metadata": {},
   "outputs": [],
   "source": [
    "import pandas as pd\n",
    "import matplotlib.pyplot as plt\n",
    "import seaborn as sns\n",
    "import csv\n",
    "import collections\n",
    "sns.set(style=\"whitegrid\")\n",
    "sns.set(rc={'figure.figsize':(20,13)})\n",
    "\n"
   ]
  },
  {
   "cell_type": "code",
   "execution_count": 132,
   "metadata": {},
   "outputs": [],
   "source": [
    "EVENTS = ['target', 'source', 'action', 'location', 'date', 'action_type']"
   ]
  },
  {
   "cell_type": "markdown",
   "metadata": {},
   "source": [
    "# Data Processing Methods"
   ]
  },
  {
   "cell_type": "code",
   "execution_count": 133,
   "metadata": {},
   "outputs": [],
   "source": [
    "def my_function(row):\n",
    "    row = set(row)\n",
    "    row = list(row)\n",
    "    return row\n",
    "\n",
    "\n",
    "def process_column(df, col):\n",
    "    df.fillna(\"NotFound\", inplace=True)\n",
    "    df[col] = df[col].str.strip('[]').str.split(',')\n",
    "    df[col] = df[col].apply(my_function)\n",
    "    \n",
    "    \n",
    "def check_vals(df1, df2, col):\n",
    "    # the first one should be master\n",
    "    df1['main'] = df1[col] # master\n",
    "    df2['ra'] = df2[col]\n",
    "    \n",
    "#     df1['news1'] = df1['news']\n",
    "#     df2['news2'] = df2['news']\n",
    "    \n",
    "    df1 = df1.loc[:, ['id', 'main']]\n",
    "    df2 = df2.loc[:, ['id', 'ra']]\n",
    "    df = df1.join(df2.set_index('id'), on='id')\n",
    "    \n",
    "    return df\n",
    "\n",
    "def compare_values(x):\n",
    "    if collections.Counter(x['main']) == collections.Counter(x['ra']):\n",
    "        return True\n",
    "    else:\n",
    "        return False"
   ]
  },
  {
   "cell_type": "code",
   "execution_count": 224,
   "metadata": {},
   "outputs": [],
   "source": [
    "def proceess_text(data):\n",
    "    for i in range(len(data)):\n",
    "        data[i] = ''.join(c for c in data[i] if c not in '\"')\n",
    "        data[i] = ''.join(c for c in data[i] if c not in '\\'')\n",
    "        data[i] = ''.join(data[i].split(' '))"
   ]
  },
  {
   "cell_type": "code",
   "execution_count": 225,
   "metadata": {},
   "outputs": [],
   "source": [
    "import itertools\n",
    "from collections import defaultdict\n",
    "\n",
    "\"\"\"\n",
    "    \n",
    "    This method takes an nested list of strings. After that it flattens the entire array. For example,\n",
    "    [['kidnapped', 'killed'], ['injured']] becomes ['kidnapped', 'killed','injured']\n",
    "\n",
    "\"\"\"\n",
    "\n",
    "def flatten_list(data, K):\n",
    "    # \n",
    "    flatten = list(itertools.chain.from_iterable(data))\n",
    "    proceess_text(flatten)\n",
    "    records = defaultdict(int)\n",
    "    track = []\n",
    "    for i in flatten:\n",
    "        records[i] += 1\n",
    "    for k, v in records.items():\n",
    "        track.append((v, k))\n",
    "    track.sort(key = lambda x : [-x[0]])\n",
    "    track = track[0:K]\n",
    "    keep = set()\n",
    "    for i in track:\n",
    "        keep.add(i[1])\n",
    "    final_list = []\n",
    "    for i in flatten:\n",
    "        if i in keep:\n",
    "            final_list.append(i)\n",
    "    return final_list"
   ]
  },
  {
   "cell_type": "markdown",
   "metadata": {},
   "source": [
    "# Read and Check Data"
   ]
  },
  {
   "cell_type": "code",
   "execution_count": 248,
   "metadata": {},
   "outputs": [],
   "source": [
    "p1 = pd.read_csv('Data/p1.csv', header=[0])\n",
    "p2 = pd.read_csv('Data/p2.csv', header=[0])\n",
    "p3 = pd.read_csv('Data/p3.csv', header=[0])\n",
    "df1 = pd.read_csv(\"Data/news_sample_data_2000.tsv\", sep='\\t')\n",
    "\n",
    "df = pd.concat([p1, p2, p3], ignore_index=True)\n",
    "df.set_index('id')\n",
    "df1.set_index('index')\n",
    "df['country'] = df1['location']"
   ]
  },
  {
   "cell_type": "code",
   "execution_count": 249,
   "metadata": {},
   "outputs": [
    {
     "data": {
      "text/html": [
       "<div>\n",
       "<style scoped>\n",
       "    .dataframe tbody tr th:only-of-type {\n",
       "        vertical-align: middle;\n",
       "    }\n",
       "\n",
       "    .dataframe tbody tr th {\n",
       "        vertical-align: top;\n",
       "    }\n",
       "\n",
       "    .dataframe thead th {\n",
       "        text-align: right;\n",
       "    }\n",
       "</style>\n",
       "<table border=\"1\" class=\"dataframe\">\n",
       "  <thead>\n",
       "    <tr style=\"text-align: right;\">\n",
       "      <th></th>\n",
       "      <th>id</th>\n",
       "      <th>target</th>\n",
       "      <th>source</th>\n",
       "      <th>action</th>\n",
       "      <th>action_type</th>\n",
       "      <th>location</th>\n",
       "      <th>date</th>\n",
       "      <th>news</th>\n",
       "      <th>country</th>\n",
       "    </tr>\n",
       "  </thead>\n",
       "  <tbody>\n",
       "    <tr>\n",
       "      <td>0</td>\n",
       "      <td>25445</td>\n",
       "      <td>['Artisan Restaurant', 'foreigners', 'hostages']</td>\n",
       "      <td>['attackers', 'suicide fighters', 'suicide sol...</td>\n",
       "      <td>['gun battle', 'killing', 'injuring']</td>\n",
       "      <td>['Armed Assault', 'Armed Assault', 'Armed Assa...</td>\n",
       "      <td>['Dhaka']</td>\n",
       "      <td>['August', '27th']</td>\n",
       "      <td>Islamic State IS in the latest issue of its on...</td>\n",
       "      <td>india</td>\n",
       "    </tr>\n",
       "    <tr>\n",
       "      <td>1</td>\n",
       "      <td>32355</td>\n",
       "      <td>['Rangers', 'Rangers', 'Military Police']</td>\n",
       "      <td>['Lashkar e Jhangvi LeJ', 'militants', 'milita...</td>\n",
       "      <td>['killing', 'killed', 'gunned']</td>\n",
       "      <td>['Armed Assault', 'Armed Assault', 'Armed Assa...</td>\n",
       "      <td>['Karachi']</td>\n",
       "      <td>['December 6']</td>\n",
       "      <td>Two Lashkar e Jhangvi LeJ militants Asim alias...</td>\n",
       "      <td>india</td>\n",
       "    </tr>\n",
       "    <tr>\n",
       "      <td>2</td>\n",
       "      <td>32398</td>\n",
       "      <td>['Security Forces', 'SFs', 'civilians']</td>\n",
       "      <td>NaN</td>\n",
       "      <td>['killed', 'fighting', 'wounded', 'fighting', ...</td>\n",
       "      <td>['Unknown', 'Unknown', 'Unknown', 'Unknown', '...</td>\n",
       "      <td>NaN</td>\n",
       "      <td>['December 20']</td>\n",
       "      <td>The Commander Southern Command Lieutenant Gene...</td>\n",
       "      <td>india</td>\n",
       "    </tr>\n",
       "    <tr>\n",
       "      <td>3</td>\n",
       "      <td>29171</td>\n",
       "      <td>['Naga', 'Naga', 'Nagas', 'Naga']</td>\n",
       "      <td>['Manipur Naga Peopleâ€™s Front', 'MNPF', 'MNP...</td>\n",
       "      <td>['explosion', 'exploded', 'bomb', 'attack']</td>\n",
       "      <td>['Bombing/Explosion', 'Bombing/Explosion', 'Bo...</td>\n",
       "      <td>NaN</td>\n",
       "      <td>['August 30']</td>\n",
       "      <td>Meanwhile the underground organization Manipur...</td>\n",
       "      <td>india</td>\n",
       "    </tr>\n",
       "    <tr>\n",
       "      <td>4</td>\n",
       "      <td>25445</td>\n",
       "      <td>['Artisan Restaurant', 'foreigners', 'hostages']</td>\n",
       "      <td>['attackers', 'suicide fighters', 'suicide sol...</td>\n",
       "      <td>['gun battle', 'killing', 'injuring']</td>\n",
       "      <td>['Armed Assault', 'Armed Assault', 'Armed Assa...</td>\n",
       "      <td>['Dhaka']</td>\n",
       "      <td>['August', '27th']</td>\n",
       "      <td>Islamic State IS in the latest issue of its on...</td>\n",
       "      <td>pakistan</td>\n",
       "    </tr>\n",
       "  </tbody>\n",
       "</table>\n",
       "</div>"
      ],
      "text/plain": [
       "      id                                            target  \\\n",
       "0  25445  ['Artisan Restaurant', 'foreigners', 'hostages']   \n",
       "1  32355         ['Rangers', 'Rangers', 'Military Police']   \n",
       "2  32398           ['Security Forces', 'SFs', 'civilians']   \n",
       "3  29171                 ['Naga', 'Naga', 'Nagas', 'Naga']   \n",
       "4  25445  ['Artisan Restaurant', 'foreigners', 'hostages']   \n",
       "\n",
       "                                              source  \\\n",
       "0  ['attackers', 'suicide fighters', 'suicide sol...   \n",
       "1  ['Lashkar e Jhangvi LeJ', 'militants', 'milita...   \n",
       "2                                                NaN   \n",
       "3  ['Manipur Naga Peopleâ€™s Front', 'MNPF', 'MNP...   \n",
       "4  ['attackers', 'suicide fighters', 'suicide sol...   \n",
       "\n",
       "                                              action  \\\n",
       "0              ['gun battle', 'killing', 'injuring']   \n",
       "1                    ['killing', 'killed', 'gunned']   \n",
       "2  ['killed', 'fighting', 'wounded', 'fighting', ...   \n",
       "3        ['explosion', 'exploded', 'bomb', 'attack']   \n",
       "4              ['gun battle', 'killing', 'injuring']   \n",
       "\n",
       "                                         action_type     location  \\\n",
       "0  ['Armed Assault', 'Armed Assault', 'Armed Assa...    ['Dhaka']   \n",
       "1  ['Armed Assault', 'Armed Assault', 'Armed Assa...  ['Karachi']   \n",
       "2  ['Unknown', 'Unknown', 'Unknown', 'Unknown', '...          NaN   \n",
       "3  ['Bombing/Explosion', 'Bombing/Explosion', 'Bo...          NaN   \n",
       "4  ['Armed Assault', 'Armed Assault', 'Armed Assa...    ['Dhaka']   \n",
       "\n",
       "                 date                                               news  \\\n",
       "0  ['August', '27th']  Islamic State IS in the latest issue of its on...   \n",
       "1      ['December 6']  Two Lashkar e Jhangvi LeJ militants Asim alias...   \n",
       "2     ['December 20']  The Commander Southern Command Lieutenant Gene...   \n",
       "3       ['August 30']  Meanwhile the underground organization Manipur...   \n",
       "4  ['August', '27th']  Islamic State IS in the latest issue of its on...   \n",
       "\n",
       "    country  \n",
       "0     india  \n",
       "1     india  \n",
       "2     india  \n",
       "3     india  \n",
       "4  pakistan  "
      ]
     },
     "execution_count": 249,
     "metadata": {},
     "output_type": "execute_result"
    }
   ],
   "source": [
    "df.head(5)"
   ]
  },
  {
   "cell_type": "code",
   "execution_count": 250,
   "metadata": {},
   "outputs": [
    {
     "name": "stdout",
     "output_type": "stream",
     "text": [
      "(276, 9)\n"
     ]
    }
   ],
   "source": [
    "print(df.shape)"
   ]
  },
  {
   "cell_type": "code",
   "execution_count": 251,
   "metadata": {},
   "outputs": [],
   "source": [
    "# process - masteer\n",
    "for i in EVENTS:\n",
    "    process_column(df, i)"
   ]
  },
  {
   "cell_type": "code",
   "execution_count": 252,
   "metadata": {},
   "outputs": [
    {
     "data": {
      "text/html": [
       "<div>\n",
       "<style scoped>\n",
       "    .dataframe tbody tr th:only-of-type {\n",
       "        vertical-align: middle;\n",
       "    }\n",
       "\n",
       "    .dataframe tbody tr th {\n",
       "        vertical-align: top;\n",
       "    }\n",
       "\n",
       "    .dataframe thead th {\n",
       "        text-align: right;\n",
       "    }\n",
       "</style>\n",
       "<table border=\"1\" class=\"dataframe\">\n",
       "  <thead>\n",
       "    <tr style=\"text-align: right;\">\n",
       "      <th></th>\n",
       "      <th>id</th>\n",
       "      <th>target</th>\n",
       "      <th>source</th>\n",
       "      <th>action</th>\n",
       "      <th>action_type</th>\n",
       "      <th>location</th>\n",
       "      <th>date</th>\n",
       "      <th>news</th>\n",
       "      <th>country</th>\n",
       "    </tr>\n",
       "  </thead>\n",
       "  <tbody>\n",
       "    <tr>\n",
       "      <td>0</td>\n",
       "      <td>25445</td>\n",
       "      <td>[ 'hostages', 'Artisan Restaurant',  'foreigne...</td>\n",
       "      <td>[ 'suicide soldiers', 'attackers',  'suicide f...</td>\n",
       "      <td>[ 'killing',  'injuring', 'gun battle']</td>\n",
       "      <td>[ 'Armed Assault', 'Armed Assault']</td>\n",
       "      <td>['Dhaka']</td>\n",
       "      <td>['August',  '27th']</td>\n",
       "      <td>Islamic State IS in the latest issue of its on...</td>\n",
       "      <td>india</td>\n",
       "    </tr>\n",
       "    <tr>\n",
       "      <td>1</td>\n",
       "      <td>32355</td>\n",
       "      <td>[ 'Military Police', 'Rangers',  'Rangers']</td>\n",
       "      <td>[ 'militants', 'Lashkar e Jhangvi LeJ']</td>\n",
       "      <td>[ 'gunned', 'killing',  'killed']</td>\n",
       "      <td>[ 'Armed Assault', 'Armed Assault']</td>\n",
       "      <td>['Karachi']</td>\n",
       "      <td>['December 6']</td>\n",
       "      <td>Two Lashkar e Jhangvi LeJ militants Asim alias...</td>\n",
       "      <td>india</td>\n",
       "    </tr>\n",
       "    <tr>\n",
       "      <td>2</td>\n",
       "      <td>32398</td>\n",
       "      <td>[ 'civilians',  'SFs', 'Security Forces']</td>\n",
       "      <td>[NotFound]</td>\n",
       "      <td>[ 'killing',  'fighting', 'killed',  'wounded']</td>\n",
       "      <td>[ 'Unknown', 'Unknown']</td>\n",
       "      <td>[NotFound]</td>\n",
       "      <td>['December 20']</td>\n",
       "      <td>The Commander Southern Command Lieutenant Gene...</td>\n",
       "      <td>india</td>\n",
       "    </tr>\n",
       "    <tr>\n",
       "      <td>3</td>\n",
       "      <td>29171</td>\n",
       "      <td>['Naga',  'Naga',  'Nagas']</td>\n",
       "      <td>[ 'MNPF', 'Manipur Naga Peopleâ€™s Front']</td>\n",
       "      <td>['explosion',  'bomb',  'attack',  'exploded']</td>\n",
       "      <td>[ 'Bombing/Explosion', 'Bombing/Explosion']</td>\n",
       "      <td>[NotFound]</td>\n",
       "      <td>['August 30']</td>\n",
       "      <td>Meanwhile the underground organization Manipur...</td>\n",
       "      <td>india</td>\n",
       "    </tr>\n",
       "    <tr>\n",
       "      <td>4</td>\n",
       "      <td>25445</td>\n",
       "      <td>[ 'hostages', 'Artisan Restaurant',  'foreigne...</td>\n",
       "      <td>[ 'suicide soldiers', 'attackers',  'suicide f...</td>\n",
       "      <td>[ 'killing',  'injuring', 'gun battle']</td>\n",
       "      <td>[ 'Armed Assault', 'Armed Assault']</td>\n",
       "      <td>['Dhaka']</td>\n",
       "      <td>['August',  '27th']</td>\n",
       "      <td>Islamic State IS in the latest issue of its on...</td>\n",
       "      <td>pakistan</td>\n",
       "    </tr>\n",
       "  </tbody>\n",
       "</table>\n",
       "</div>"
      ],
      "text/plain": [
       "      id                                             target  \\\n",
       "0  25445  [ 'hostages', 'Artisan Restaurant',  'foreigne...   \n",
       "1  32355        [ 'Military Police', 'Rangers',  'Rangers']   \n",
       "2  32398          [ 'civilians',  'SFs', 'Security Forces']   \n",
       "3  29171                        ['Naga',  'Naga',  'Nagas']   \n",
       "4  25445  [ 'hostages', 'Artisan Restaurant',  'foreigne...   \n",
       "\n",
       "                                              source  \\\n",
       "0  [ 'suicide soldiers', 'attackers',  'suicide f...   \n",
       "1            [ 'militants', 'Lashkar e Jhangvi LeJ']   \n",
       "2                                         [NotFound]   \n",
       "3         [ 'MNPF', 'Manipur Naga Peopleâ€™s Front']   \n",
       "4  [ 'suicide soldiers', 'attackers',  'suicide f...   \n",
       "\n",
       "                                            action  \\\n",
       "0          [ 'killing',  'injuring', 'gun battle']   \n",
       "1                [ 'gunned', 'killing',  'killed']   \n",
       "2  [ 'killing',  'fighting', 'killed',  'wounded']   \n",
       "3   ['explosion',  'bomb',  'attack',  'exploded']   \n",
       "4          [ 'killing',  'injuring', 'gun battle']   \n",
       "\n",
       "                                   action_type     location  \\\n",
       "0          [ 'Armed Assault', 'Armed Assault']    ['Dhaka']   \n",
       "1          [ 'Armed Assault', 'Armed Assault']  ['Karachi']   \n",
       "2                      [ 'Unknown', 'Unknown']   [NotFound]   \n",
       "3  [ 'Bombing/Explosion', 'Bombing/Explosion']   [NotFound]   \n",
       "4          [ 'Armed Assault', 'Armed Assault']    ['Dhaka']   \n",
       "\n",
       "                  date                                               news  \\\n",
       "0  ['August',  '27th']  Islamic State IS in the latest issue of its on...   \n",
       "1       ['December 6']  Two Lashkar e Jhangvi LeJ militants Asim alias...   \n",
       "2      ['December 20']  The Commander Southern Command Lieutenant Gene...   \n",
       "3        ['August 30']  Meanwhile the underground organization Manipur...   \n",
       "4  ['August',  '27th']  Islamic State IS in the latest issue of its on...   \n",
       "\n",
       "    country  \n",
       "0     india  \n",
       "1     india  \n",
       "2     india  \n",
       "3     india  \n",
       "4  pakistan  "
      ]
     },
     "execution_count": 252,
     "metadata": {},
     "output_type": "execute_result"
    }
   ],
   "source": [
    "df.head()"
   ]
  },
  {
   "cell_type": "code",
   "execution_count": 253,
   "metadata": {},
   "outputs": [
    {
     "data": {
      "text/plain": [
       "\"'Artisan Restaurant'\""
      ]
     },
     "execution_count": 253,
     "metadata": {},
     "output_type": "execute_result"
    }
   ],
   "source": [
    "df.loc[0, :][1][1]"
   ]
  },
  {
   "cell_type": "markdown",
   "metadata": {},
   "source": [
    "# Data Visulization"
   ]
  },
  {
   "cell_type": "markdown",
   "metadata": {},
   "source": [
    "## 1. 0 - Ratio - Relevant vs Not Relevant"
   ]
  },
  {
   "cell_type": "code",
   "execution_count": 254,
   "metadata": {},
   "outputs": [
    {
     "name": "stdout",
     "output_type": "stream",
     "text": [
      "Relevant news is -  18.4 %\n",
      "Not Relevant news is -  81.6 %\n"
     ]
    }
   ],
   "source": [
    "relevant = (len(df)/1500)*100\n",
    "not_relevant = ((1500 - len(df))/1500)*100\n",
    "\n",
    "\n",
    "print(\"Relevant news is - \", relevant, \"%\")\n",
    "print(\"Not Relevant news is - \", not_relevant, \"%\")"
   ]
  },
  {
   "cell_type": "markdown",
   "metadata": {},
   "source": [
    "## 1.1 Event Distribution"
   ]
  },
  {
   "cell_type": "code",
   "execution_count": 261,
   "metadata": {},
   "outputs": [],
   "source": [
    "K = 10\n",
    "\n",
    "action = flatten_list(df['action'].values, K)\n",
    "target = flatten_list(df['target'].values, K)\n",
    "source = flatten_list(df['source'].values, K)\n",
    "action_type = flatten_list(df['action_type'].values, K)"
   ]
  },
  {
   "cell_type": "code",
   "execution_count": 262,
   "metadata": {},
   "outputs": [
    {
     "data": {
      "text/plain": [
       "[('militants', 76),\n",
       " ('CPIMaoist', 55),\n",
       " ('CommunistPartyofIndiaMaoist', 47),\n",
       " ('NotFound', 39),\n",
       " ('Maoists', 25),\n",
       " ('Taliban', 18),\n",
       " ('assailants', 15),\n",
       " ('Militants', 15),\n",
       " ('militant', 9),\n",
       " ('LeT', 8)]"
      ]
     },
     "execution_count": 262,
     "metadata": {},
     "output_type": "execute_result"
    }
   ],
   "source": [
    "from collections import Counter\n",
    "\n",
    "Counter(source).most_common(20)\n"
   ]
  },
  {
   "cell_type": "code",
   "execution_count": 263,
   "metadata": {},
   "outputs": [
    {
     "data": {
      "text/plain": [
       "Counter({'civilians': 19,\n",
       "         'SFs': 18,\n",
       "         'SecurityForces': 17,\n",
       "         'man': 9,\n",
       "         'people': 12,\n",
       "         'persons': 18,\n",
       "         'Army': 14,\n",
       "         'Police': 24,\n",
       "         'CRPF': 16,\n",
       "         'CentralReservePoliceForce': 12})"
      ]
     },
     "execution_count": 263,
     "metadata": {},
     "output_type": "execute_result"
    }
   ],
   "source": [
    "Counter(target)"
   ]
  },
  {
   "cell_type": "code",
   "execution_count": 264,
   "metadata": {},
   "outputs": [
    {
     "data": {
      "text/plain": [
       "<matplotlib.axes._subplots.AxesSubplot at 0x7f91f7c320d0>"
      ]
     },
     "execution_count": 264,
     "metadata": {},
     "output_type": "execute_result"
    },
    {
     "data": {
      "image/png": "[encoded data removed]",
      "text/plain": [
       "<Figure size 1440x936 with 1 Axes>"
      ]
     },
     "metadata": {},
     "output_type": "display_data"
    }
   ],
   "source": [
    "sns.countplot(x=action)"
   ]
  },
  {
   "cell_type": "code",
   "execution_count": 265,
   "metadata": {},
   "outputs": [
    {
     "data": {
      "text/plain": [
       "<matplotlib.axes._subplots.AxesSubplot at 0x7f91f688ce90>"
      ]
     },
     "execution_count": 265,
     "metadata": {},
     "output_type": "execute_result"
    },
    {
     "data": {
      "image/png": "[encoded data removed]",
      "text/plain": [
       "<Figure size 1440x936 with 1 Axes>"
      ]
     },
     "metadata": {},
     "output_type": "display_data"
    }
   ],
   "source": [
    "sns.countplot(x=target)"
   ]
  },
  {
   "cell_type": "code",
   "execution_count": 266,
   "metadata": {},
   "outputs": [
    {
     "data": {
      "text/plain": [
       "<matplotlib.axes._subplots.AxesSubplot at 0x7f91f69b0e50>"
      ]
     },
     "execution_count": 266,
     "metadata": {},
     "output_type": "execute_result"
    },
    {
     "data": {
      "image/png": "[encoded data removed]",
      "text/plain": [
       "<Figure size 1440x936 with 1 Axes>"
      ]
     },
     "metadata": {},
     "output_type": "display_data"
    }
   ],
   "source": [
    "sns.countplot(x=source)"
   ]
  },
  {
   "cell_type": "code",
   "execution_count": 267,
   "metadata": {},
   "outputs": [
    {
     "data": {
      "text/plain": [
       "<matplotlib.axes._subplots.AxesSubplot at 0x7f91f6a62fd0>"
      ]
     },
     "execution_count": 267,
     "metadata": {},
     "output_type": "execute_result"
    },
    {
     "data": {
      "image/png": "[encoded data removed]",
      "text/plain": [
       "<Figure size 1440x936 with 1 Axes>"
      ]
     },
     "metadata": {},
     "output_type": "display_data"
    }
   ],
   "source": [
    "sns.countplot(x=action_type)"
   ]
  },
  {
   "cell_type": "markdown",
   "metadata": {},
   "source": [
    "## Country Specific"
   ]
  },
  {
   "cell_type": "code",
   "execution_count": 277,
   "metadata": {},
   "outputs": [
    {
     "data": {
      "text/html": [
       "<div>\n",
       "<style scoped>\n",
       "    .dataframe tbody tr th:only-of-type {\n",
       "        vertical-align: middle;\n",
       "    }\n",
       "\n",
       "    .dataframe tbody tr th {\n",
       "        vertical-align: top;\n",
       "    }\n",
       "\n",
       "    .dataframe thead th {\n",
       "        text-align: right;\n",
       "    }\n",
       "</style>\n",
       "<table border=\"1\" class=\"dataframe\">\n",
       "  <thead>\n",
       "    <tr style=\"text-align: right;\">\n",
       "      <th></th>\n",
       "      <th>id</th>\n",
       "      <th>target</th>\n",
       "      <th>source</th>\n",
       "      <th>action</th>\n",
       "      <th>action_type</th>\n",
       "      <th>location</th>\n",
       "      <th>date</th>\n",
       "      <th>news</th>\n",
       "      <th>country</th>\n",
       "    </tr>\n",
       "  </thead>\n",
       "  <tbody>\n",
       "    <tr>\n",
       "      <td>14</td>\n",
       "      <td>31902</td>\n",
       "      <td>[ 'officers',  'navigator', 'people',  'people']</td>\n",
       "      <td>['Afghan Taliban']</td>\n",
       "      <td>['hostage',  'fire']</td>\n",
       "      <td>[ 'Facility/Infrastructure Attack', 'Hijacking']</td>\n",
       "      <td>[ 'Logar', 'Mati',  'Azra',  'Afghanistan']</td>\n",
       "      <td>['August 4']</td>\n",
       "      <td>A Punjab Government Mi17 helicopter on August ...</td>\n",
       "      <td>bangladesh</td>\n",
       "    </tr>\n",
       "    <tr>\n",
       "      <td>62</td>\n",
       "      <td>25202</td>\n",
       "      <td>['Purba Bangla Communist Party',  'PBCP']</td>\n",
       "      <td>[ 'RAB', 'Rapid Action Battalion']</td>\n",
       "      <td>[ 'injured',  'gunfight', 'killed']</td>\n",
       "      <td>[ 'Armed Assault', 'Armed Assault']</td>\n",
       "      <td>['Tangail']</td>\n",
       "      <td>['April 7']</td>\n",
       "      <td>Two cadres of Purba Bangla Communist Party PBC...</td>\n",
       "      <td>bangladesh</td>\n",
       "    </tr>\n",
       "    <tr>\n",
       "      <td>73</td>\n",
       "      <td>32051</td>\n",
       "      <td>['member']</td>\n",
       "      <td>[NotFound]</td>\n",
       "      <td>['shot']</td>\n",
       "      <td>['Assassination']</td>\n",
       "      <td>['Peshawar']</td>\n",
       "      <td>['September 11']</td>\n",
       "      <td>A senior member of the polio eradication campa...</td>\n",
       "      <td>bangladesh</td>\n",
       "    </tr>\n",
       "    <tr>\n",
       "      <td>75</td>\n",
       "      <td>29454</td>\n",
       "      <td>['Bindeshwar']</td>\n",
       "      <td>[ 'Maoist', 'Communist Party of India Maoist',...</td>\n",
       "      <td>['beaten',  'killed']</td>\n",
       "      <td>['Unarmed Assault',  'Armed Assault']</td>\n",
       "      <td>['Lohardaga',  'Lohardaga']</td>\n",
       "      <td>['September 17']</td>\n",
       "      <td>A 40 year old tribal Bindeshwar Oraon was beat...</td>\n",
       "      <td>bangladesh</td>\n",
       "    </tr>\n",
       "    <tr>\n",
       "      <td>79</td>\n",
       "      <td>31357</td>\n",
       "      <td>[ 'worker', 'worker']</td>\n",
       "      <td>['unidentified militant']</td>\n",
       "      <td>['shot']</td>\n",
       "      <td>['Armed Assault']</td>\n",
       "      <td>['Khuga Khel']</td>\n",
       "      <td>['March 26']</td>\n",
       "      <td>A polio worker and supervisor in Expanded Prog...</td>\n",
       "      <td>bangladesh</td>\n",
       "    </tr>\n",
       "  </tbody>\n",
       "</table>\n",
       "</div>"
      ],
      "text/plain": [
       "       id                                            target  \\\n",
       "14  31902  [ 'officers',  'navigator', 'people',  'people']   \n",
       "62  25202         ['Purba Bangla Communist Party',  'PBCP']   \n",
       "73  32051                                        ['member']   \n",
       "75  29454                                    ['Bindeshwar']   \n",
       "79  31357                             [ 'worker', 'worker']   \n",
       "\n",
       "                                               source  \\\n",
       "14                                 ['Afghan Taliban']   \n",
       "62                 [ 'RAB', 'Rapid Action Battalion']   \n",
       "73                                         [NotFound]   \n",
       "75  [ 'Maoist', 'Communist Party of India Maoist',...   \n",
       "79                          ['unidentified militant']   \n",
       "\n",
       "                                 action  \\\n",
       "14                 ['hostage',  'fire']   \n",
       "62  [ 'injured',  'gunfight', 'killed']   \n",
       "73                             ['shot']   \n",
       "75                ['beaten',  'killed']   \n",
       "79                             ['shot']   \n",
       "\n",
       "                                         action_type  \\\n",
       "14  [ 'Facility/Infrastructure Attack', 'Hijacking']   \n",
       "62               [ 'Armed Assault', 'Armed Assault']   \n",
       "73                                 ['Assassination']   \n",
       "75             ['Unarmed Assault',  'Armed Assault']   \n",
       "79                                 ['Armed Assault']   \n",
       "\n",
       "                                       location              date  \\\n",
       "14  [ 'Logar', 'Mati',  'Azra',  'Afghanistan']      ['August 4']   \n",
       "62                                  ['Tangail']       ['April 7']   \n",
       "73                                 ['Peshawar']  ['September 11']   \n",
       "75                  ['Lohardaga',  'Lohardaga']  ['September 17']   \n",
       "79                               ['Khuga Khel']      ['March 26']   \n",
       "\n",
       "                                                 news     country  \n",
       "14  A Punjab Government Mi17 helicopter on August ...  bangladesh  \n",
       "62  Two cadres of Purba Bangla Communist Party PBC...  bangladesh  \n",
       "73  A senior member of the polio eradication campa...  bangladesh  \n",
       "75  A 40 year old tribal Bindeshwar Oraon was beat...  bangladesh  \n",
       "79  A polio worker and supervisor in Expanded Prog...  bangladesh  "
      ]
     },
     "execution_count": 277,
     "metadata": {},
     "output_type": "execute_result"
    }
   ],
   "source": [
    "df_India = df[df['country'] == \"bangladesh\"]\n",
    "df_India.head(5)"
   ]
  },
  {
   "cell_type": "code",
   "execution_count": 278,
   "metadata": {},
   "outputs": [],
   "source": [
    "K = 10\n",
    "\n",
    "action = flatten_list(df_India['action'].values, K)\n",
    "target = flatten_list(df_India['target'].values, K)\n",
    "source = flatten_list(df_India['source'].values, K)\n",
    "action_type = flatten_list(df_India['action_type'].values, K)"
   ]
  },
  {
   "cell_type": "code",
   "execution_count": 279,
   "metadata": {},
   "outputs": [
    {
     "data": {
      "text/plain": [
       "Counter({'officers': 1,\n",
       "         'navigator': 1,\n",
       "         'people': 2,\n",
       "         'PurbaBanglaCommunistParty': 1,\n",
       "         'worker': 2,\n",
       "         'vehicles': 2,\n",
       "         'civilians': 2,\n",
       "         'Soldier': 2,\n",
       "         'passengertrain': 2,\n",
       "         'woman': 2})"
      ]
     },
     "execution_count": 279,
     "metadata": {},
     "output_type": "execute_result"
    }
   ],
   "source": [
    "Counter(target)"
   ]
  },
  {
   "cell_type": "code",
   "execution_count": 280,
   "metadata": {},
   "outputs": [
    {
     "data": {
      "text/plain": [
       "Counter({'AfghanTaliban': 1,\n",
       "         'RAB': 1,\n",
       "         'RapidActionBattalion': 1,\n",
       "         'NotFound': 3,\n",
       "         'CommunistPartyofIndiaMaoist': 4,\n",
       "         'CPIMaoist': 4,\n",
       "         'Maoists': 2,\n",
       "         'assailants': 2,\n",
       "         'militants': 10,\n",
       "         'Taliban': 3})"
      ]
     },
     "execution_count": 280,
     "metadata": {},
     "output_type": "execute_result"
    }
   ],
   "source": [
    "Counter(source)"
   ]
  },
  {
   "cell_type": "code",
   "execution_count": null,
   "metadata": {},
   "outputs": [],
   "source": []
  }
 ],
 "metadata": {
  "kernelspec": {
   "display_name": "Python 3",
   "language": "python",
   "name": "python3"
  },
  "language_info": {
   "codemirror_mode": {
    "name": "ipython",
    "version": 3
   },
   "file_extension": ".py",
   "mimetype": "text/x-python",
   "name": "python",
   "nbconvert_exporter": "python",
   "pygments_lexer": "ipython3",
   "version": "3.7.4"
  }
 },
 "nbformat": 4,
 "nbformat_minor": 2
}
