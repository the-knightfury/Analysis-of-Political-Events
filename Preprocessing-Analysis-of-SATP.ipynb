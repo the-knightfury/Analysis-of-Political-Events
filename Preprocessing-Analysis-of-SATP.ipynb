{
 "cells": [
  {
   "cell_type": "code",
   "execution_count": 104,
   "metadata": {},
   "outputs": [],
   "source": [
    "\"\"\"\n",
    "\n",
    "    * Pandas is a software library written for the Python programming language for data manipulation and analysis.\n",
    "    * Matplotlib & seaborn are plotting libraries.\n",
    "    * NumPy is a library for the Python programming language, adding support for large, multi-dimensional arrays \n",
    "      and matrices, along with a large collection of high-level mathematical functions to operate on these arrays.\n",
    "    * csv is a library which helps to process csv files.\n",
    "    * collections is a library which supports some external data structures.\n",
    "\n",
    "\"\"\"\n",
    "\n",
    "# Importing libraries for analyzing the annotated SATP news reports\n",
    "\n",
    "import pandas as pd\n",
    "import matplotlib.pyplot as plt\n",
    "import seaborn as sns\n",
    "import numpy as np\n",
    "import csv\n",
    "import collections\n",
    "sns.set(style=\"whitegrid\")\n",
    "sns.set(rc={'figure.figsize':(20,13)})\n",
    "plt.style.use('ggplot')\n",
    "\n"
   ]
  },
  {
   "cell_type": "code",
   "execution_count": 105,
   "metadata": {},
   "outputs": [],
   "source": [
    "# Defining an array which holds the names of the components of the events\n",
    "\n",
    "EVENTS = ['target', 'source', 'action', 'location', 'date', 'action_type']"
   ]
  },
  {
   "cell_type": "markdown",
   "metadata": {},
   "source": [
    "# Data Processing Methods"
   ]
  },
  {
   "cell_type": "code",
   "execution_count": 106,
   "metadata": {},
   "outputs": [],
   "source": [
    "\"\"\"\n",
    "\n",
    "    This function processes the string to arraytype for each row and also fills up the null values\n",
    "    \n",
    "    INPUT - df - Dataframe\n",
    "            col - Name of the column. The column is a string type column\n",
    "    \n",
    "\n",
    "\"\"\"\n",
    "def process_column(df, col):\n",
    "    df.fillna(\"NotSpecified\", inplace=True)\n",
    "    df[col] = df[col].str.strip('[]').str.split(',')\n",
    "    #df[col] = df[col].apply(my_function)\n",
    "    \n",
    "\"\"\"\n",
    "\n",
    "    This function processes the text and gets rid off the extra spaces within the labels\n",
    "    \n",
    "    Input - Array of Strings\n",
    "    \n",
    "    Example - Input - ['  ArmedAssault', 'ArmedAssault  ']\n",
    "              Output - ['ArmedAssault', 'ArmedAssault']\n",
    "    \n",
    "    \n",
    "\n",
    "\"\"\"\n",
    "def proceess_text(data):\n",
    "    for i in range(len(data)):\n",
    "        data[i] = ''.join(c for c in data[i] if c not in '\"')\n",
    "        data[i] = ''.join(c for c in data[i] if c not in '\\'')\n",
    "        data[i] = ''.join(data[i].split(' '))\n",
    "\n",
    "\"\"\"\n",
    "\n",
    "    This function retrives the distinct labels from each row of a particular column\n",
    "    \n",
    "    INPUT - Column Values\n",
    "    \n",
    "    Example - Input - ['ArmedAssault', 'ArmedAssault']\n",
    "              Output - ['ArmedAssault']\n",
    "\n",
    "\"\"\"      \n",
    "        \n",
    "def get_unique(data):\n",
    "    for i in range(len(data)):\n",
    "        # print(data[i])\n",
    "        proceess_text(data[i])\n",
    "        data[i] = list(set(data[i]))\n",
    "    \n",
    "    \n",
    "    "
   ]
  },
  {
   "cell_type": "code",
   "execution_count": 107,
   "metadata": {},
   "outputs": [],
   "source": [
    "import itertools\n",
    "from collections import defaultdict\n",
    "\n",
    "\"\"\"\n",
    "    \n",
    "    This function takes an nested list of strings. After that it flattens the entire array. For example,\n",
    "    [['kidnapped', 'killed'], ['injured']] becomes ['kidnapped', 'killed','injured']. The reason for doing\n",
    "    this is - for analysis purpose, we dont want any duplicacy. Thats why getting rid off the redudency. \n",
    "    \n",
    "    This function also can produce the Top K labels of given column with its respective counts.\n",
    "\n",
    "\"\"\"\n",
    "\n",
    "def flatten_list(data, K):\n",
    "    # get_unique(data)\n",
    "    flatten = list(itertools.chain.from_iterable(data))\n",
    "    #proceess_text(flatten)\n",
    "    records = defaultdict(int)\n",
    "    track = []\n",
    "    for i in flatten:\n",
    "        records[i] += 1\n",
    "    for k, v in records.items():\n",
    "        track.append((v, k))\n",
    "    track.sort(key = lambda x : [-x[0]])\n",
    "    if K > 0:\n",
    "        track = track[0:K]\n",
    "    keep = set()\n",
    "    for i in track:\n",
    "        keep.add(i[1])\n",
    "    final_list = []\n",
    "    for i in flatten:\n",
    "        if i in keep:\n",
    "            final_list.append(i)\n",
    "    return final_list"
   ]
  },
  {
   "cell_type": "markdown",
   "metadata": {},
   "source": [
    "# Read and Check Data"
   ]
  },
  {
   "cell_type": "code",
   "execution_count": 108,
   "metadata": {},
   "outputs": [],
   "source": [
    "# Importing data from csv file\n",
    "\n",
    "############## First Round Data ##################\n",
    "p1 = pd.read_csv('Data/p1.csv', header=[0])\n",
    "p2 = pd.read_csv('Data/p2.csv', header=[0])\n",
    "p3 = pd.read_csv('Data/p3.csv', header=[0])\n",
    "\n",
    "############## Second Round Data ##################\n",
    "p4 = pd.read_csv('Data/p4.csv', header=[0])\n",
    "p5 = pd.read_csv('Data/p5.csv', header=[0])\n",
    "p6 = pd.read_csv('Data/p6.csv', header=[0])\n",
    "\n",
    "\n",
    "df = pd.concat([p1, p2, p3, p4, p5, p6], ignore_index=True)"
   ]
  },
  {
   "cell_type": "code",
   "execution_count": 109,
   "metadata": {},
   "outputs": [
    {
     "data": {
      "text/html": [
       "<div>\n",
       "<style scoped>\n",
       "    .dataframe tbody tr th:only-of-type {\n",
       "        vertical-align: middle;\n",
       "    }\n",
       "\n",
       "    .dataframe tbody tr th {\n",
       "        vertical-align: top;\n",
       "    }\n",
       "\n",
       "    .dataframe thead th {\n",
       "        text-align: right;\n",
       "    }\n",
       "</style>\n",
       "<table border=\"1\" class=\"dataframe\">\n",
       "  <thead>\n",
       "    <tr style=\"text-align: right;\">\n",
       "      <th></th>\n",
       "      <th>id</th>\n",
       "      <th>target</th>\n",
       "      <th>source</th>\n",
       "      <th>action</th>\n",
       "      <th>action_type</th>\n",
       "      <th>location</th>\n",
       "      <th>date</th>\n",
       "      <th>country</th>\n",
       "      <th>year</th>\n",
       "      <th>news</th>\n",
       "    </tr>\n",
       "  </thead>\n",
       "  <tbody>\n",
       "    <tr>\n",
       "      <td>0</td>\n",
       "      <td>32355</td>\n",
       "      <td>['Rangers', 'Rangers', 'Military Police']</td>\n",
       "      <td>['Lashkar e Jhangvi LeJ', 'militants', 'milita...</td>\n",
       "      <td>['killing', 'killed', 'gunned']</td>\n",
       "      <td>['Armed Assault', 'Armed Assault', 'Armed Assa...</td>\n",
       "      <td>['Karachi']</td>\n",
       "      <td>['December 6']</td>\n",
       "      <td>pakistan</td>\n",
       "      <td>2016</td>\n",
       "      <td>Two Lashkar e Jhangvi LeJ militants Asim alias...</td>\n",
       "    </tr>\n",
       "    <tr>\n",
       "      <td>1</td>\n",
       "      <td>32398</td>\n",
       "      <td>['Security Forces', 'SFs', 'civilians']</td>\n",
       "      <td>NaN</td>\n",
       "      <td>['killed', 'fighting', 'wounded', 'fighting', ...</td>\n",
       "      <td>['Unknown', 'Unknown', 'Unknown', 'Unknown', '...</td>\n",
       "      <td>NaN</td>\n",
       "      <td>['December 20']</td>\n",
       "      <td>pakistan</td>\n",
       "      <td>2016</td>\n",
       "      <td>The Commander Southern Command Lieutenant Gene...</td>\n",
       "    </tr>\n",
       "    <tr>\n",
       "      <td>2</td>\n",
       "      <td>29171</td>\n",
       "      <td>['Naga', 'Naga', 'Nagas', 'Naga']</td>\n",
       "      <td>['Manipur Naga Peopleâ€™s Front', 'MNPF', 'MNP...</td>\n",
       "      <td>['explosion', 'exploded', 'bomb', 'attack']</td>\n",
       "      <td>['Bombing/Explosion', 'Bombing/Explosion', 'Bo...</td>\n",
       "      <td>NaN</td>\n",
       "      <td>['August 30']</td>\n",
       "      <td>india</td>\n",
       "      <td>2016</td>\n",
       "      <td>Meanwhile the underground organization Manipur...</td>\n",
       "    </tr>\n",
       "    <tr>\n",
       "      <td>3</td>\n",
       "      <td>25445</td>\n",
       "      <td>['Artisan Restaurant', 'foreigners', 'hostages']</td>\n",
       "      <td>['attackers', 'suicide fighters', 'suicide sol...</td>\n",
       "      <td>['gun battle', 'killing', 'injuring']</td>\n",
       "      <td>['Armed Assault', 'Armed Assault', 'Armed Assa...</td>\n",
       "      <td>['Dhaka']</td>\n",
       "      <td>['August', '27th']</td>\n",
       "      <td>bangladesh</td>\n",
       "      <td>2016</td>\n",
       "      <td>Islamic State IS in the latest issue of its on...</td>\n",
       "    </tr>\n",
       "    <tr>\n",
       "      <td>4</td>\n",
       "      <td>31739</td>\n",
       "      <td>['Muttahida Qaumi Movement', 'MQM', 'MQM']</td>\n",
       "      <td>NaN</td>\n",
       "      <td>['shot']</td>\n",
       "      <td>['Assassination']</td>\n",
       "      <td>['Naeemabad', 'Korangi', 'Karachi', 'Sindh']</td>\n",
       "      <td>['June 19']</td>\n",
       "      <td>pakistan</td>\n",
       "      <td>2016</td>\n",
       "      <td>A senior Muttahida Qaumi Movement MQM worker i...</td>\n",
       "    </tr>\n",
       "  </tbody>\n",
       "</table>\n",
       "</div>"
      ],
      "text/plain": [
       "      id                                            target  \\\n",
       "0  32355         ['Rangers', 'Rangers', 'Military Police']   \n",
       "1  32398           ['Security Forces', 'SFs', 'civilians']   \n",
       "2  29171                 ['Naga', 'Naga', 'Nagas', 'Naga']   \n",
       "3  25445  ['Artisan Restaurant', 'foreigners', 'hostages']   \n",
       "4  31739        ['Muttahida Qaumi Movement', 'MQM', 'MQM']   \n",
       "\n",
       "                                              source  \\\n",
       "0  ['Lashkar e Jhangvi LeJ', 'militants', 'milita...   \n",
       "1                                                NaN   \n",
       "2  ['Manipur Naga Peopleâ€™s Front', 'MNPF', 'MNP...   \n",
       "3  ['attackers', 'suicide fighters', 'suicide sol...   \n",
       "4                                                NaN   \n",
       "\n",
       "                                              action  \\\n",
       "0                    ['killing', 'killed', 'gunned']   \n",
       "1  ['killed', 'fighting', 'wounded', 'fighting', ...   \n",
       "2        ['explosion', 'exploded', 'bomb', 'attack']   \n",
       "3              ['gun battle', 'killing', 'injuring']   \n",
       "4                                           ['shot']   \n",
       "\n",
       "                                         action_type  \\\n",
       "0  ['Armed Assault', 'Armed Assault', 'Armed Assa...   \n",
       "1  ['Unknown', 'Unknown', 'Unknown', 'Unknown', '...   \n",
       "2  ['Bombing/Explosion', 'Bombing/Explosion', 'Bo...   \n",
       "3  ['Armed Assault', 'Armed Assault', 'Armed Assa...   \n",
       "4                                  ['Assassination']   \n",
       "\n",
       "                                       location                date  \\\n",
       "0                                   ['Karachi']      ['December 6']   \n",
       "1                                           NaN     ['December 20']   \n",
       "2                                           NaN       ['August 30']   \n",
       "3                                     ['Dhaka']  ['August', '27th']   \n",
       "4  ['Naeemabad', 'Korangi', 'Karachi', 'Sindh']         ['June 19']   \n",
       "\n",
       "      country  year                                               news  \n",
       "0    pakistan  2016  Two Lashkar e Jhangvi LeJ militants Asim alias...  \n",
       "1    pakistan  2016  The Commander Southern Command Lieutenant Gene...  \n",
       "2       india  2016  Meanwhile the underground organization Manipur...  \n",
       "3  bangladesh  2016  Islamic State IS in the latest issue of its on...  \n",
       "4    pakistan  2016  A senior Muttahida Qaumi Movement MQM worker i...  "
      ]
     },
     "execution_count": 109,
     "metadata": {},
     "output_type": "execute_result"
    }
   ],
   "source": [
    "df.head(5)"
   ]
  },
  {
   "cell_type": "code",
   "execution_count": 110,
   "metadata": {},
   "outputs": [
    {
     "name": "stdout",
     "output_type": "stream",
     "text": [
      "(504, 10)\n"
     ]
    }
   ],
   "source": [
    "print(df.shape)"
   ]
  },
  {
   "cell_type": "code",
   "execution_count": 111,
   "metadata": {},
   "outputs": [
    {
     "name": "stderr",
     "output_type": "stream",
     "text": [
      "/Users/shahreenshahjahanpsyche/opt/anaconda3/lib/python3.7/site-packages/ipykernel_launcher.py:48: SettingWithCopyWarning: \n",
      "A value is trying to be set on a copy of a slice from a DataFrame\n",
      "\n",
      "See the caveats in the documentation: http://pandas.pydata.org/pandas-docs/stable/user_guide/indexing.html#returning-a-view-versus-a-copy\n"
     ]
    }
   ],
   "source": [
    "# process - masteer\n",
    "for i in EVENTS:\n",
    "    process_column(df, i)\n",
    "    get_unique(df[i])"
   ]
  },
  {
   "cell_type": "code",
   "execution_count": 112,
   "metadata": {},
   "outputs": [
    {
     "data": {
      "text/html": [
       "<div>\n",
       "<style scoped>\n",
       "    .dataframe tbody tr th:only-of-type {\n",
       "        vertical-align: middle;\n",
       "    }\n",
       "\n",
       "    .dataframe tbody tr th {\n",
       "        vertical-align: top;\n",
       "    }\n",
       "\n",
       "    .dataframe thead th {\n",
       "        text-align: right;\n",
       "    }\n",
       "</style>\n",
       "<table border=\"1\" class=\"dataframe\">\n",
       "  <thead>\n",
       "    <tr style=\"text-align: right;\">\n",
       "      <th></th>\n",
       "      <th>id</th>\n",
       "      <th>target</th>\n",
       "      <th>source</th>\n",
       "      <th>action</th>\n",
       "      <th>action_type</th>\n",
       "      <th>location</th>\n",
       "      <th>date</th>\n",
       "      <th>country</th>\n",
       "      <th>year</th>\n",
       "      <th>news</th>\n",
       "    </tr>\n",
       "  </thead>\n",
       "  <tbody>\n",
       "    <tr>\n",
       "      <td>0</td>\n",
       "      <td>32355</td>\n",
       "      <td>[Rangers, MilitaryPolice]</td>\n",
       "      <td>[LashkareJhangviLeJ, militants]</td>\n",
       "      <td>[killing, gunned, killed]</td>\n",
       "      <td>[ArmedAssault]</td>\n",
       "      <td>[Karachi]</td>\n",
       "      <td>[December6]</td>\n",
       "      <td>pakistan</td>\n",
       "      <td>2016</td>\n",
       "      <td>Two Lashkar e Jhangvi LeJ militants Asim alias...</td>\n",
       "    </tr>\n",
       "    <tr>\n",
       "      <td>1</td>\n",
       "      <td>32398</td>\n",
       "      <td>[SFs, SecurityForces, civilians]</td>\n",
       "      <td>[NotSpecified]</td>\n",
       "      <td>[killing, fighting, wounded, killed]</td>\n",
       "      <td>[Unknown]</td>\n",
       "      <td>[NotSpecified]</td>\n",
       "      <td>[December20]</td>\n",
       "      <td>pakistan</td>\n",
       "      <td>2016</td>\n",
       "      <td>The Commander Southern Command Lieutenant Gene...</td>\n",
       "    </tr>\n",
       "    <tr>\n",
       "      <td>2</td>\n",
       "      <td>29171</td>\n",
       "      <td>[Nagas, Naga]</td>\n",
       "      <td>[MNPF, ManipurNagaPeopleâ€™sFront]</td>\n",
       "      <td>[bomb, attack, explosion, exploded]</td>\n",
       "      <td>[Bombing/Explosion]</td>\n",
       "      <td>[NotSpecified]</td>\n",
       "      <td>[August30]</td>\n",
       "      <td>india</td>\n",
       "      <td>2016</td>\n",
       "      <td>Meanwhile the underground organization Manipur...</td>\n",
       "    </tr>\n",
       "    <tr>\n",
       "      <td>3</td>\n",
       "      <td>25445</td>\n",
       "      <td>[foreigners, hostages, ArtisanRestaurant]</td>\n",
       "      <td>[suicidesoldiers, suicidefighters, attackers]</td>\n",
       "      <td>[killing, gunbattle, injuring]</td>\n",
       "      <td>[ArmedAssault]</td>\n",
       "      <td>[Dhaka]</td>\n",
       "      <td>[27th, August]</td>\n",
       "      <td>bangladesh</td>\n",
       "      <td>2016</td>\n",
       "      <td>Islamic State IS in the latest issue of its on...</td>\n",
       "    </tr>\n",
       "    <tr>\n",
       "      <td>4</td>\n",
       "      <td>31739</td>\n",
       "      <td>[MuttahidaQaumiMovement, MQM]</td>\n",
       "      <td>[NotSpecified]</td>\n",
       "      <td>[shot]</td>\n",
       "      <td>[Assassination]</td>\n",
       "      <td>[Korangi, Karachi, Sindh, Naeemabad]</td>\n",
       "      <td>[June19]</td>\n",
       "      <td>pakistan</td>\n",
       "      <td>2016</td>\n",
       "      <td>A senior Muttahida Qaumi Movement MQM worker i...</td>\n",
       "    </tr>\n",
       "  </tbody>\n",
       "</table>\n",
       "</div>"
      ],
      "text/plain": [
       "      id                                     target  \\\n",
       "0  32355                  [Rangers, MilitaryPolice]   \n",
       "1  32398           [SFs, SecurityForces, civilians]   \n",
       "2  29171                              [Nagas, Naga]   \n",
       "3  25445  [foreigners, hostages, ArtisanRestaurant]   \n",
       "4  31739              [MuttahidaQaumiMovement, MQM]   \n",
       "\n",
       "                                          source  \\\n",
       "0                [LashkareJhangviLeJ, militants]   \n",
       "1                                 [NotSpecified]   \n",
       "2             [MNPF, ManipurNagaPeopleâ€™sFront]   \n",
       "3  [suicidesoldiers, suicidefighters, attackers]   \n",
       "4                                 [NotSpecified]   \n",
       "\n",
       "                                 action          action_type  \\\n",
       "0             [killing, gunned, killed]       [ArmedAssault]   \n",
       "1  [killing, fighting, wounded, killed]            [Unknown]   \n",
       "2   [bomb, attack, explosion, exploded]  [Bombing/Explosion]   \n",
       "3        [killing, gunbattle, injuring]       [ArmedAssault]   \n",
       "4                                [shot]      [Assassination]   \n",
       "\n",
       "                               location            date     country  year  \\\n",
       "0                             [Karachi]     [December6]    pakistan  2016   \n",
       "1                        [NotSpecified]    [December20]    pakistan  2016   \n",
       "2                        [NotSpecified]      [August30]       india  2016   \n",
       "3                               [Dhaka]  [27th, August]  bangladesh  2016   \n",
       "4  [Korangi, Karachi, Sindh, Naeemabad]        [June19]    pakistan  2016   \n",
       "\n",
       "                                                news  \n",
       "0  Two Lashkar e Jhangvi LeJ militants Asim alias...  \n",
       "1  The Commander Southern Command Lieutenant Gene...  \n",
       "2  Meanwhile the underground organization Manipur...  \n",
       "3  Islamic State IS in the latest issue of its on...  \n",
       "4  A senior Muttahida Qaumi Movement MQM worker i...  "
      ]
     },
     "execution_count": 112,
     "metadata": {},
     "output_type": "execute_result"
    }
   ],
   "source": [
    "df.head() # [[ArmedAssault], [Bombing]] --> [ArmedAssault, Bombing]"
   ]
  },
  {
   "cell_type": "code",
   "execution_count": 113,
   "metadata": {},
   "outputs": [
    {
     "data": {
      "text/plain": [
       "'LashkareJhangviLeJ'"
      ]
     },
     "execution_count": 113,
     "metadata": {},
     "output_type": "execute_result"
    }
   ],
   "source": [
    "df.loc[0, :][2][0]"
   ]
  },
  {
   "cell_type": "markdown",
   "metadata": {},
   "source": [
    "# Data Visulization"
   ]
  },
  {
   "cell_type": "markdown",
   "metadata": {},
   "source": [
    "## 1. 0 - Ratio - Relevant vs Not Relevant"
   ]
  },
  {
   "cell_type": "code",
   "execution_count": 114,
   "metadata": {},
   "outputs": [
    {
     "name": "stdout",
     "output_type": "stream",
     "text": [
      "Relevant news is -  16.8 %\n",
      "Not Relevant news is -  83.2 %\n"
     ]
    }
   ],
   "source": [
    "relevant = (len(df)/3000)*100\n",
    "not_relevant = ((3000 - len(df))/3000)*100\n",
    "\n",
    "\n",
    "print(\"Relevant news is - \", relevant, \"%\")\n",
    "print(\"Not Relevant news is - \", not_relevant, \"%\")"
   ]
  },
  {
   "cell_type": "markdown",
   "metadata": {},
   "source": [
    "## 1.1 Event Distribution"
   ]
  },
  {
   "cell_type": "code",
   "execution_count": 115,
   "metadata": {},
   "outputs": [],
   "source": [
    "K = -1\n",
    "\n",
    "action = flatten_list(df['action'].values, K)\n",
    "target = flatten_list(df['target'].values, K)\n",
    "source = flatten_list(df['source'].values, K)\n",
    "action_type = flatten_list(df['action_type'].values, K)"
   ]
  },
  {
   "cell_type": "code",
   "execution_count": 116,
   "metadata": {},
   "outputs": [
    {
     "data": {
      "text/plain": [
       "Counter({'ArmedAssault': 211,\n",
       "         'Unknown': 64,\n",
       "         'Bombing/Explosion': 156,\n",
       "         'Assassination': 40,\n",
       "         'Facility/InfrastructureAttack': 47,\n",
       "         'NotSpecified': 50,\n",
       "         'Hijacking': 4,\n",
       "         'UnarmedAssault': 18,\n",
       "         'Kidnapping': 42,\n",
       "         'BarricadeIncident': 1})"
      ]
     },
     "execution_count": 116,
     "metadata": {},
     "output_type": "execute_result"
    }
   ],
   "source": [
    "from collections import Counter\n",
    "\n",
    "Counter(action_type)"
   ]
  },
  {
   "cell_type": "code",
   "execution_count": 117,
   "metadata": {},
   "outputs": [
    {
     "data": {
      "text/plain": [
       "<matplotlib.axes._subplots.AxesSubplot at 0x7f92bbb102d0>"
      ]
     },
     "execution_count": 117,
     "metadata": {},
     "output_type": "execute_result"
    },
    {
     "data": {
      "image/png": "[encoded data removed]",
      "text/plain": [
       "<Figure size 1440x936 with 1 Axes>"
      ]
     },
     "metadata": {},
     "output_type": "display_data"
    }
   ],
   "source": [
    "sns.countplot(x=action_type)"
   ]
  },
  {
   "cell_type": "markdown",
   "metadata": {},
   "source": [
    "## Country Specific"
   ]
  },
  {
   "cell_type": "code",
   "execution_count": 118,
   "metadata": {},
   "outputs": [
    {
     "data": {
      "text/plain": [
       "['india', 'afghanistan', 'nepal', 'bangladesh', 'srilanka', 'pakistan']"
      ]
     },
     "execution_count": 118,
     "metadata": {},
     "output_type": "execute_result"
    }
   ],
   "source": [
    "COUNTRIES = list(set(df[\"country\"]))\n",
    "COUNTRIES"
   ]
  },
  {
   "cell_type": "code",
   "execution_count": 119,
   "metadata": {},
   "outputs": [],
   "source": [
    "K = 10\n",
    "\n",
    "df_by_country = df[df['country'] == COUNTRIES[0]]\n",
    "\n",
    "action = flatten_list(df_by_country['action'].values, K)\n",
    "target = flatten_list(df_by_country['target'].values, K)\n",
    "source = flatten_list(df_by_country['source'].values, K)\n",
    "action_type = flatten_list(df_by_country['action_type'].values, K)"
   ]
  },
  {
   "cell_type": "code",
   "execution_count": 120,
   "metadata": {},
   "outputs": [
    {
     "data": {
      "text/plain": [
       "Counter({'Bombing/Explosion': 83,\n",
       "         'Facility/InfrastructureAttack': 38,\n",
       "         'NotSpecified': 34,\n",
       "         'ArmedAssault': 129,\n",
       "         'Unknown': 38,\n",
       "         'UnarmedAssault': 17,\n",
       "         'Kidnapping': 35,\n",
       "         'Assassination': 10,\n",
       "         'BarricadeIncident': 1,\n",
       "         'Hijacking': 2})"
      ]
     },
     "execution_count": 120,
     "metadata": {},
     "output_type": "execute_result"
    }
   ],
   "source": [
    "Counter(action_type)"
   ]
  },
  {
   "cell_type": "code",
   "execution_count": 121,
   "metadata": {},
   "outputs": [
    {
     "data": {
      "text/plain": [
       "<matplotlib.axes._subplots.AxesSubplot at 0x7f92bb2e3490>"
      ]
     },
     "execution_count": 121,
     "metadata": {},
     "output_type": "execute_result"
    },
    {
     "data": {
      "image/png": "[encoded data removed]",
      "text/plain": [
       "<Figure size 1440x936 with 1 Axes>"
      ]
     },
     "metadata": {},
     "output_type": "display_data"
    }
   ],
   "source": [
    "sns.countplot(x=action_type)"
   ]
  },
  {
   "cell_type": "markdown",
   "metadata": {},
   "source": [
    "## Action-Type Count By Country"
   ]
  },
  {
   "cell_type": "code",
   "execution_count": 122,
   "metadata": {},
   "outputs": [
    {
     "data": {
      "text/html": [
       "<div>\n",
       "<style scoped>\n",
       "    .dataframe tbody tr th:only-of-type {\n",
       "        vertical-align: middle;\n",
       "    }\n",
       "\n",
       "    .dataframe tbody tr th {\n",
       "        vertical-align: top;\n",
       "    }\n",
       "\n",
       "    .dataframe thead th {\n",
       "        text-align: right;\n",
       "    }\n",
       "</style>\n",
       "<table border=\"1\" class=\"dataframe\">\n",
       "  <thead>\n",
       "    <tr style=\"text-align: right;\">\n",
       "      <th></th>\n",
       "      <th>id</th>\n",
       "      <th>target</th>\n",
       "      <th>source</th>\n",
       "      <th>action</th>\n",
       "      <th>action_type</th>\n",
       "      <th>location</th>\n",
       "      <th>date</th>\n",
       "      <th>country</th>\n",
       "      <th>year</th>\n",
       "      <th>news</th>\n",
       "    </tr>\n",
       "  </thead>\n",
       "  <tbody>\n",
       "    <tr>\n",
       "      <td>0</td>\n",
       "      <td>32355</td>\n",
       "      <td>[Rangers, MilitaryPolice]</td>\n",
       "      <td>[LashkareJhangviLeJ, militants]</td>\n",
       "      <td>[killing, gunned, killed]</td>\n",
       "      <td>ArmedAssault</td>\n",
       "      <td>[Karachi]</td>\n",
       "      <td>[December6]</td>\n",
       "      <td>pakistan</td>\n",
       "      <td>2016</td>\n",
       "      <td>Two Lashkar e Jhangvi LeJ militants Asim alias...</td>\n",
       "    </tr>\n",
       "    <tr>\n",
       "      <td>1</td>\n",
       "      <td>32398</td>\n",
       "      <td>[SFs, SecurityForces, civilians]</td>\n",
       "      <td>[NotSpecified]</td>\n",
       "      <td>[killing, fighting, wounded, killed]</td>\n",
       "      <td>Unknown</td>\n",
       "      <td>[NotSpecified]</td>\n",
       "      <td>[December20]</td>\n",
       "      <td>pakistan</td>\n",
       "      <td>2016</td>\n",
       "      <td>The Commander Southern Command Lieutenant Gene...</td>\n",
       "    </tr>\n",
       "    <tr>\n",
       "      <td>2</td>\n",
       "      <td>29171</td>\n",
       "      <td>[Nagas, Naga]</td>\n",
       "      <td>[MNPF, ManipurNagaPeopleâ€™sFront]</td>\n",
       "      <td>[bomb, attack, explosion, exploded]</td>\n",
       "      <td>Bombing/Explosion</td>\n",
       "      <td>[NotSpecified]</td>\n",
       "      <td>[August30]</td>\n",
       "      <td>india</td>\n",
       "      <td>2016</td>\n",
       "      <td>Meanwhile the underground organization Manipur...</td>\n",
       "    </tr>\n",
       "    <tr>\n",
       "      <td>3</td>\n",
       "      <td>25445</td>\n",
       "      <td>[foreigners, hostages, ArtisanRestaurant]</td>\n",
       "      <td>[suicidesoldiers, suicidefighters, attackers]</td>\n",
       "      <td>[killing, gunbattle, injuring]</td>\n",
       "      <td>ArmedAssault</td>\n",
       "      <td>[Dhaka]</td>\n",
       "      <td>[27th, August]</td>\n",
       "      <td>bangladesh</td>\n",
       "      <td>2016</td>\n",
       "      <td>Islamic State IS in the latest issue of its on...</td>\n",
       "    </tr>\n",
       "    <tr>\n",
       "      <td>4</td>\n",
       "      <td>31739</td>\n",
       "      <td>[MuttahidaQaumiMovement, MQM]</td>\n",
       "      <td>[NotSpecified]</td>\n",
       "      <td>[shot]</td>\n",
       "      <td>Assassination</td>\n",
       "      <td>[Korangi, Karachi, Sindh, Naeemabad]</td>\n",
       "      <td>[June19]</td>\n",
       "      <td>pakistan</td>\n",
       "      <td>2016</td>\n",
       "      <td>A senior Muttahida Qaumi Movement MQM worker i...</td>\n",
       "    </tr>\n",
       "  </tbody>\n",
       "</table>\n",
       "</div>"
      ],
      "text/plain": [
       "      id                                     target  \\\n",
       "0  32355                  [Rangers, MilitaryPolice]   \n",
       "1  32398           [SFs, SecurityForces, civilians]   \n",
       "2  29171                              [Nagas, Naga]   \n",
       "3  25445  [foreigners, hostages, ArtisanRestaurant]   \n",
       "4  31739              [MuttahidaQaumiMovement, MQM]   \n",
       "\n",
       "                                          source  \\\n",
       "0                [LashkareJhangviLeJ, militants]   \n",
       "1                                 [NotSpecified]   \n",
       "2             [MNPF, ManipurNagaPeopleâ€™sFront]   \n",
       "3  [suicidesoldiers, suicidefighters, attackers]   \n",
       "4                                 [NotSpecified]   \n",
       "\n",
       "                                 action        action_type  \\\n",
       "0             [killing, gunned, killed]       ArmedAssault   \n",
       "1  [killing, fighting, wounded, killed]            Unknown   \n",
       "2   [bomb, attack, explosion, exploded]  Bombing/Explosion   \n",
       "3        [killing, gunbattle, injuring]       ArmedAssault   \n",
       "4                                [shot]      Assassination   \n",
       "\n",
       "                               location            date     country  year  \\\n",
       "0                             [Karachi]     [December6]    pakistan  2016   \n",
       "1                        [NotSpecified]    [December20]    pakistan  2016   \n",
       "2                        [NotSpecified]      [August30]       india  2016   \n",
       "3                               [Dhaka]  [27th, August]  bangladesh  2016   \n",
       "4  [Korangi, Karachi, Sindh, Naeemabad]        [June19]    pakistan  2016   \n",
       "\n",
       "                                                news  \n",
       "0  Two Lashkar e Jhangvi LeJ militants Asim alias...  \n",
       "1  The Commander Southern Command Lieutenant Gene...  \n",
       "2  Meanwhile the underground organization Manipur...  \n",
       "3  Islamic State IS in the latest issue of its on...  \n",
       "4  A senior Muttahida Qaumi Movement MQM worker i...  "
      ]
     },
     "execution_count": 122,
     "metadata": {},
     "output_type": "execute_result"
    }
   ],
   "source": [
    "df_action = df.copy()\n",
    "df_action = df_action.explode('action_type')\n",
    "df_action.head(5)"
   ]
  },
  {
   "cell_type": "code",
   "execution_count": 123,
   "metadata": {},
   "outputs": [
    {
     "data": {
      "text/html": [
       "<div>\n",
       "<style scoped>\n",
       "    .dataframe tbody tr th:only-of-type {\n",
       "        vertical-align: middle;\n",
       "    }\n",
       "\n",
       "    .dataframe tbody tr th {\n",
       "        vertical-align: top;\n",
       "    }\n",
       "\n",
       "    .dataframe thead th {\n",
       "        text-align: right;\n",
       "    }\n",
       "</style>\n",
       "<table border=\"1\" class=\"dataframe\">\n",
       "  <thead>\n",
       "    <tr style=\"text-align: right;\">\n",
       "      <th>action_type</th>\n",
       "      <th>ArmedAssault</th>\n",
       "      <th>Assassination</th>\n",
       "      <th>BarricadeIncident</th>\n",
       "      <th>Bombing/Explosion</th>\n",
       "      <th>Facility/InfrastructureAttack</th>\n",
       "      <th>Hijacking</th>\n",
       "      <th>Kidnapping</th>\n",
       "      <th>NotSpecified</th>\n",
       "      <th>UnarmedAssault</th>\n",
       "      <th>Unknown</th>\n",
       "    </tr>\n",
       "    <tr>\n",
       "      <th>country</th>\n",
       "      <th></th>\n",
       "      <th></th>\n",
       "      <th></th>\n",
       "      <th></th>\n",
       "      <th></th>\n",
       "      <th></th>\n",
       "      <th></th>\n",
       "      <th></th>\n",
       "      <th></th>\n",
       "      <th></th>\n",
       "    </tr>\n",
       "  </thead>\n",
       "  <tbody>\n",
       "    <tr>\n",
       "      <td>afghanistan</td>\n",
       "      <td>2</td>\n",
       "      <td>1</td>\n",
       "      <td>0</td>\n",
       "      <td>13</td>\n",
       "      <td>3</td>\n",
       "      <td>1</td>\n",
       "      <td>4</td>\n",
       "      <td>5</td>\n",
       "      <td>0</td>\n",
       "      <td>17</td>\n",
       "    </tr>\n",
       "    <tr>\n",
       "      <td>bangladesh</td>\n",
       "      <td>9</td>\n",
       "      <td>5</td>\n",
       "      <td>0</td>\n",
       "      <td>7</td>\n",
       "      <td>1</td>\n",
       "      <td>0</td>\n",
       "      <td>0</td>\n",
       "      <td>2</td>\n",
       "      <td>1</td>\n",
       "      <td>2</td>\n",
       "    </tr>\n",
       "    <tr>\n",
       "      <td>india</td>\n",
       "      <td>129</td>\n",
       "      <td>10</td>\n",
       "      <td>1</td>\n",
       "      <td>83</td>\n",
       "      <td>38</td>\n",
       "      <td>2</td>\n",
       "      <td>35</td>\n",
       "      <td>34</td>\n",
       "      <td>17</td>\n",
       "      <td>38</td>\n",
       "    </tr>\n",
       "    <tr>\n",
       "      <td>nepal</td>\n",
       "      <td>0</td>\n",
       "      <td>0</td>\n",
       "      <td>0</td>\n",
       "      <td>5</td>\n",
       "      <td>1</td>\n",
       "      <td>0</td>\n",
       "      <td>0</td>\n",
       "      <td>1</td>\n",
       "      <td>0</td>\n",
       "      <td>0</td>\n",
       "    </tr>\n",
       "    <tr>\n",
       "      <td>pakistan</td>\n",
       "      <td>71</td>\n",
       "      <td>24</td>\n",
       "      <td>0</td>\n",
       "      <td>48</td>\n",
       "      <td>4</td>\n",
       "      <td>1</td>\n",
       "      <td>3</td>\n",
       "      <td>8</td>\n",
       "      <td>0</td>\n",
       "      <td>6</td>\n",
       "    </tr>\n",
       "    <tr>\n",
       "      <td>srilanka</td>\n",
       "      <td>0</td>\n",
       "      <td>0</td>\n",
       "      <td>0</td>\n",
       "      <td>0</td>\n",
       "      <td>0</td>\n",
       "      <td>0</td>\n",
       "      <td>0</td>\n",
       "      <td>0</td>\n",
       "      <td>0</td>\n",
       "      <td>1</td>\n",
       "    </tr>\n",
       "  </tbody>\n",
       "</table>\n",
       "</div>"
      ],
      "text/plain": [
       "action_type  ArmedAssault  Assassination  BarricadeIncident  \\\n",
       "country                                                       \n",
       "afghanistan             2              1                  0   \n",
       "bangladesh              9              5                  0   \n",
       "india                 129             10                  1   \n",
       "nepal                   0              0                  0   \n",
       "pakistan               71             24                  0   \n",
       "srilanka                0              0                  0   \n",
       "\n",
       "action_type  Bombing/Explosion  Facility/InfrastructureAttack  Hijacking  \\\n",
       "country                                                                    \n",
       "afghanistan                 13                              3          1   \n",
       "bangladesh                   7                              1          0   \n",
       "india                       83                             38          2   \n",
       "nepal                        5                              1          0   \n",
       "pakistan                    48                              4          1   \n",
       "srilanka                     0                              0          0   \n",
       "\n",
       "action_type  Kidnapping  NotSpecified  UnarmedAssault  Unknown  \n",
       "country                                                         \n",
       "afghanistan           4             5               0       17  \n",
       "bangladesh            0             2               1        2  \n",
       "india                35            34              17       38  \n",
       "nepal                 0             1               0        0  \n",
       "pakistan              3             8               0        6  \n",
       "srilanka              0             0               0        1  "
      ]
     },
     "execution_count": 123,
     "metadata": {},
     "output_type": "execute_result"
    }
   ],
   "source": [
    "aggregated = df_action.pivot_table(index = 'country', columns = 'action_type', aggfunc='size', fill_value=0)\n",
    "aggregated"
   ]
  },
  {
   "cell_type": "code",
   "execution_count": 124,
   "metadata": {},
   "outputs": [
    {
     "data": {
      "text/plain": [
       "<matplotlib.axes._subplots.AxesSubplot at 0x7f92bab56450>"
      ]
     },
     "execution_count": 124,
     "metadata": {},
     "output_type": "execute_result"
    },
    {
     "data": {
      "image/png": "[encoded data removed]",
      "text/plain": [
       "<Figure size 1440x936 with 1 Axes>"
      ]
     },
     "metadata": {},
     "output_type": "display_data"
    }
   ],
   "source": [
    "aggregated.plot(kind='bar', y='Assassination')"
   ]
  },
  {
   "cell_type": "markdown",
   "metadata": {},
   "source": [
    "## Action-Type Count By Year"
   ]
  },
  {
   "cell_type": "code",
   "execution_count": 125,
   "metadata": {},
   "outputs": [
    {
     "data": {
      "image/png": "[encoded data removed]",
      "text/plain": [
       "<Figure size 2880x1440 with 3 Axes>"
      ]
     },
     "metadata": {},
     "output_type": "display_data"
    }
   ],
   "source": [
    "df_action_by_year = df.copy()\n",
    "df_action_by_year = df_action_by_year.explode('action_type')\n",
    "\n",
    "g = sns.catplot(x=\"action_type\", col=\"year\", col_wrap=2,\n",
    "                data=df_action_by_year,\n",
    "                kind=\"count\", height=10, aspect=2)"
   ]
  },
  {
   "cell_type": "code",
   "execution_count": null,
   "metadata": {},
   "outputs": [],
   "source": []
  }
 ],
 "metadata": {
  "kernelspec": {
   "display_name": "Python 3",
   "language": "python",
   "name": "python3"
  },
  "language_info": {
   "codemirror_mode": {
    "name": "ipython",
    "version": 3
   },
   "file_extension": ".py",
   "mimetype": "text/x-python",
   "name": "python",
   "nbconvert_exporter": "python",
   "pygments_lexer": "ipython3",
   "version": "3.7.4"
  }
 },
 "nbformat": 4,
 "nbformat_minor": 2
}
